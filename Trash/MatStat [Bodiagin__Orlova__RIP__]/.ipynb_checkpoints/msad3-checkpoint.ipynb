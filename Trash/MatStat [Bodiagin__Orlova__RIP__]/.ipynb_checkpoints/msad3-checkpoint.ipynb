{
 "cells": [
  {
   "cell_type": "code",
   "execution_count": 95,
   "id": "39f1d730",
   "metadata": {},
   "outputs": [],
   "source": [
    "import numpy as np\n",
    "import scipy as sc\n",
    "import seaborn as sns\n",
    "import matplotlib.pyplot as plt"
   ]
  },
  {
   "cell_type": "markdown",
   "id": "e8345e64",
   "metadata": {},
   "source": [
    "## ГЕНЕРАЦИЯ"
   ]
  },
  {
   "cell_type": "code",
   "execution_count": 96,
   "id": "365b79c0",
   "metadata": {},
   "outputs": [],
   "source": [
    "np.random.seed(17)"
   ]
  },
  {
   "cell_type": "code",
   "execution_count": 97,
   "id": "0cbfa3ea",
   "metadata": {},
   "outputs": [],
   "source": [
    "mu = np.random.normal(size=(3))\n",
    "scale_diag = np.random.normal(scale=3, size=3)\n",
    "scale_nondiag = np.random.normal(scale=2, size=3)\n",
    "scale11, scale22, scale33 = scale_diag\n",
    "scale12, scale13, scale23 = scale_nondiag\n",
    "sigma_matrix = np.array([[scale11, scale12, scale13],\n",
    "                             [scale12, scale22, scale23],\n",
    "                             [scale13, scale23, scale33]])\n",
    "sigma_matrix = sigma_matrix @ sigma_matrix.T"
   ]
  },
  {
   "cell_type": "code",
   "execution_count": 98,
   "id": "f3e20ba8",
   "metadata": {},
   "outputs": [
    {
     "data": {
      "text/plain": [
       "array([[12.3800171 , -1.67803202, -6.65366639],\n",
       "       [-1.67803202,  9.82019971,  2.76998721],\n",
       "       [-6.65366639,  2.76998721, 32.64754466]])"
      ]
     },
     "execution_count": 98,
     "metadata": {},
     "output_type": "execute_result"
    }
   ],
   "source": [
    "sigma_matrix"
   ]
  },
  {
   "cell_type": "code",
   "execution_count": 99,
   "id": "5c2accdd",
   "metadata": {},
   "outputs": [],
   "source": [
    "def generate(mu, sigma_matrix):\n",
    "    return np.random.multivariate_normal(mu, sigma_matrix, 101)"
   ]
  },
  {
   "cell_type": "code",
   "execution_count": 100,
   "id": "467e5542",
   "metadata": {},
   "outputs": [
    {
     "data": {
      "text/plain": [
       "array([[ 1.        , -0.16536415, -0.33612335],\n",
       "       [-0.16536415,  1.        ,  0.23196896],\n",
       "       [-0.33612335,  0.23196896,  1.        ]])"
      ]
     },
     "execution_count": 100,
     "metadata": {},
     "output_type": "execute_result"
    }
   ],
   "source": [
    "test_X = generate(mu, sigma_matrix)\n",
    "np.corrcoef(test_X, rowvar=False)"
   ]
  },
  {
   "cell_type": "code",
   "execution_count": 101,
   "id": "50ec067c",
   "metadata": {},
   "outputs": [
    {
     "data": {
      "text/plain": [
       "array([[10.63485945, -1.85364098, -6.89305742],\n",
       "       [-1.85364098, 11.81508207,  5.01412988],\n",
       "       [-6.89305742,  5.01412988, 39.5452807 ]])"
      ]
     },
     "execution_count": 101,
     "metadata": {},
     "output_type": "execute_result"
    }
   ],
   "source": [
    "np.cov(test_X, rowvar=False)"
   ]
  },
  {
   "cell_type": "markdown",
   "id": "39bfdbb6",
   "metadata": {},
   "source": [
    "## ОПЫТЫ"
   ]
  },
  {
   "cell_type": "code",
   "execution_count": 102,
   "id": "5a376901",
   "metadata": {},
   "outputs": [],
   "source": [
    "errors_test = []\n",
    "squared_errors_training_means = []\n",
    "squared_errors_training_var = []\n",
    "errors_training_means = []\n",
    "errors_training_var = []\n",
    "for i in range(100):\n",
    "    X = generate(mu, sigma_matrix)\n",
    "    rand_index = np.random.randint(0, 100)\n",
    "    saved = X[rand_index]\n",
    "    X = np.delete(X, rand_index, axis=0)\n",
    "    \n",
    "    a0 = np.mean(X[:, 0])\n",
    "    cov_matrix = np.cov(test_X, rowvar=False)\n",
    "    x23_mean = np.mean(X[:, 1:])\n",
    "    matrix_b = cov_matrix[0, 1:] @ np.linalg.inv(cov_matrix[1:, 1:])\n",
    "    \n",
    "    squared_errors_training = []\n",
    "    errors_training = []\n",
    "    for i, _ in enumerate(X):\n",
    "        x1_est = matrix_b @ (X[i, 1:] - x23_mean) + a0\n",
    "        squared_errors_training.append((X[i, 0] - x1_est) ** 2)\n",
    "        errors_training.append(X[i, 0] - x1_est)\n",
    "    squared_errors_training_means.append(np.mean(squared_errors_training))\n",
    "    squared_errors_training_var.append(np.var(squared_errors_training))\n",
    "    errors_training_means.append(np.mean(errors_training))\n",
    "    errors_training_var.append(np.var(errors_training))\n",
    "    errors_test.append((saved[0] - (matrix_b @ (saved[1:] - x23_mean) + a0)) ** 2)"
   ]
  },
  {
   "cell_type": "code",
   "execution_count": 103,
   "id": "f3be7b98",
   "metadata": {},
   "outputs": [
    {
     "data": {
      "text/plain": [
       "<AxesSubplot:ylabel='Count'>"
      ]
     },
     "execution_count": 103,
     "metadata": {},
     "output_type": "execute_result"
    },
    {
     "data": {
      "image/png": "[encoded data removed]",
      "text/plain": [
       "<Figure size 432x288 with 1 Axes>"
      ]
     },
     "metadata": {
      "needs_background": "light"
     },
     "output_type": "display_data"
    }
   ],
   "source": [
    "sns.histplot(errors_training_means)"
   ]
  },
  {
   "cell_type": "code",
   "execution_count": 104,
   "id": "62a736aa",
   "metadata": {},
   "outputs": [
    {
     "data": {
      "text/plain": [
       "<AxesSubplot:ylabel='Count'>"
      ]
     },
     "execution_count": 104,
     "metadata": {},
     "output_type": "execute_result"
    },
    {
     "data": {
      "image/png": "[encoded data removed]",
      "text/plain": [
       "<Figure size 432x288 with 1 Axes>"
      ]
     },
     "metadata": {
      "needs_background": "light"
     },
     "output_type": "display_data"
    }
   ],
   "source": [
    "sns.histplot(errors_training_var)"
   ]
  },
  {
   "cell_type": "code",
   "execution_count": 105,
   "id": "bfcef300",
   "metadata": {},
   "outputs": [
    {
     "data": {
      "text/plain": [
       "11.750868652244192"
      ]
     },
     "execution_count": 105,
     "metadata": {},
     "output_type": "execute_result"
    }
   ],
   "source": [
    "np.mean(errors_test)"
   ]
  },
  {
   "cell_type": "markdown",
   "id": "72a397ba",
   "metadata": {},
   "source": [
    "## ТЕОРЕТИЧЕСКАЯ ОЦЕНКА"
   ]
  },
  {
   "cell_type": "code",
   "execution_count": 106,
   "id": "63e55eb9",
   "metadata": {},
   "outputs": [],
   "source": [
    "errors_test = []\n",
    "squared_errors_training_means = []\n",
    "squared_errors_training_var = []\n",
    "errors_training_means = []\n",
    "errors_training_var = []\n",
    "for i in range(100):\n",
    "    X = generate(mu, sigma_matrix)\n",
    "    rand_index = np.random.randint(0, 100)\n",
    "    saved = X[rand_index]\n",
    "    X = np.delete(X, rand_index, axis=0)\n",
    "    \n",
    "    a0 = mu[0]\n",
    "    cov_matrix = sigma_matrix\n",
    "    x23_mean = mu[1:]\n",
    "    matrix_b = cov_matrix[0, 1:] @ np.linalg.inv(cov_matrix[1:, 1:])\n",
    "    \n",
    "    squared_errors_training = []\n",
    "    errors_training = []\n",
    "    for i, _ in enumerate(X):\n",
    "        x1_est = matrix_b @ (X[i, 1:] - x23_mean) + a0\n",
    "        squared_errors_training.append((X[i, 0] - x1_est) ** 2)\n",
    "        errors_training.append(X[i, 0] - x1_est)\n",
    "    squared_errors_training_means.append(np.mean(squared_errors_training))\n",
    "    squared_errors_training_var.append(np.var(squared_errors_training))\n",
    "    errors_training_means.append(np.mean(errors_training))\n",
    "    errors_training_var.append(np.var(errors_training))\n",
    "    errors_test.append((saved[0] - (matrix_b @ (saved[1:] - x23_mean) + a0)) ** 2)"
   ]
  },
  {
   "cell_type": "code",
   "execution_count": 107,
   "id": "b7d1a3c5",
   "metadata": {},
   "outputs": [
    {
     "data": {
      "text/plain": [
       "<AxesSubplot:ylabel='Count'>"
      ]
     },
     "execution_count": 107,
     "metadata": {},
     "output_type": "execute_result"
    },
    {
     "data": {
      "image/png": "[encoded data removed]",
      "text/plain": [
       "<Figure size 432x288 with 1 Axes>"
      ]
     },
     "metadata": {
      "needs_background": "light"
     },
     "output_type": "display_data"
    }
   ],
   "source": [
    "sns.histplot(errors_training_means)"
   ]
  },
  {
   "cell_type": "code",
   "execution_count": 108,
   "id": "296fc1ff",
   "metadata": {},
   "outputs": [
    {
     "data": {
      "text/plain": [
       "<AxesSubplot:ylabel='Count'>"
      ]
     },
     "execution_count": 108,
     "metadata": {},
     "output_type": "execute_result"
    },
    {
     "data": {
      "image/png": "[encoded data removed]",
      "text/plain": [
       "<Figure size 432x288 with 1 Axes>"
      ]
     },
     "metadata": {
      "needs_background": "light"
     },
     "output_type": "display_data"
    }
   ],
   "source": [
    "sns.histplot(errors_training_var)"
   ]
  },
  {
   "cell_type": "code",
   "execution_count": 109,
   "id": "416364e5",
   "metadata": {},
   "outputs": [
    {
     "data": {
      "text/plain": [
       "11.665783414298726"
      ]
     },
     "execution_count": 109,
     "metadata": {},
     "output_type": "execute_result"
    }
   ],
   "source": [
    "np.mean(errors_test)"
   ]
  }
 ],
 "metadata": {
  "kernelspec": {
   "display_name": "Python 3 (ipykernel)",
   "language": "python",
   "name": "python3"
  },
  "language_info": {
   "codemirror_mode": {
    "name": "ipython",
    "version": 3
   },
   "file_extension": ".py",
   "mimetype": "text/x-python",
   "name": "python",
   "nbconvert_exporter": "python",
   "pygments_lexer": "ipython3",
   "version": "3.9.9"
  }
 },
 "nbformat": 4,
 "nbformat_minor": 5
}
